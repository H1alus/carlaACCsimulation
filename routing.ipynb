{
 "cells": [
  {
   "cell_type": "code",
   "execution_count": 1,
   "metadata": {},
   "outputs": [],
   "source": [
    "import carla\n",
    "import numpy as np\n",
    "import random\n",
    "import cv2\n",
    "import sys\n",
    "import os\n",
    "sys.path.append(f'{os.getcwd()}/simulator/PythonAPI/carla') \n",
    "from agents.navigation.global_route_planner import GlobalRoutePlanner"
   ]
  },
  {
   "cell_type": "code",
   "execution_count": 2,
   "metadata": {},
   "outputs": [],
   "source": [
    "###############################################################################\n",
    "#context\n",
    "###############################################################################\n",
    "client = carla.Client('host.docker.internal', 2000)\n",
    "world = client.get_world()\n",
    "client.load_world('Town04')\n",
    "pos = carla.Transform(carla.Location(x=402.784515, y=-149.542175, z=0.281942), \n",
    "                      carla.Rotation(pitch=0.000000, yaw=-89.401421, roll=0.000000))\n",
    "spawn_points = world.get_map().get_spawn_points()\n",
    "spectator = world.get_spectator()\n",
    "spectator.set_transform(pos)"
   ]
  },
  {
   "cell_type": "code",
   "execution_count": null,
   "metadata": {},
   "outputs": [],
   "source": [
    "point_b = spectator.get_transform()\n",
    "print(point_b)"
   ]
  },
  {
   "cell_type": "code",
   "execution_count": 3,
   "metadata": {},
   "outputs": [],
   "source": [
    "point_b = carla.Transform(carla.Location(x=-391.342010, y=26.208113, z=1.766472), carla.Rotation(pitch=-7.819187, yaw=0.168475, roll=0.000083))"
   ]
  },
  {
   "cell_type": "code",
   "execution_count": 4,
   "metadata": {},
   "outputs": [
    {
     "ename": "",
     "evalue": "",
     "output_type": "error",
     "traceback": [
      "\u001b[1;31mThe Kernel crashed while executing code in the the current cell or a previous cell. Please review the code in the cell(s) to identify a possible cause of the failure. Click <a href='https://aka.ms/vscodeJupyterKernelCrash'>here</a> for more info. View Jupyter <a href='command:jupyter.viewOutput'>log</a> for further details."
     ]
    }
   ],
   "source": [
    "sampling_resolution = 1\n",
    "grp = GlobalRoutePlanner(world.get_map(), sampling_resolution)\n",
    "first_half = grp.trace_route(pos.location, point_b.location)\n",
    "grp = GlobalRoutePlanner(world.get_map(), sampling_resolution)\n",
    "second_half = grp.trace_route(point_b.location, pos.location)[:-1]\n",
    "route = first_half + second_half\n",
    "#draw the route in sim window - Note it does not get into the camera of the car\n",
    "for waypoint in route:\n",
    "    world.debug.draw_string(waypoint[0].transform.location, '^', draw_shadow=False,\n",
    "        color=carla.Color(r=0, g=0, b=255), life_time=600.0,\n",
    "        persistent_lines=True)"
   ]
  }
 ],
 "metadata": {
  "kernelspec": {
   "display_name": "Python 3",
   "language": "python",
   "name": "python3"
  },
  "language_info": {
   "codemirror_mode": {
    "name": "ipython",
    "version": 3
   },
   "file_extension": ".py",
   "mimetype": "text/x-python",
   "name": "python",
   "nbconvert_exporter": "python",
   "pygments_lexer": "ipython3",
   "version": "3.8.18"
  }
 },
 "nbformat": 4,
 "nbformat_minor": 2
}
