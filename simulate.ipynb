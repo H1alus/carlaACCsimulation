{
 "cells": [
  {
   "cell_type": "code",
   "execution_count": 1,
   "metadata": {},
   "outputs": [],
   "source": [
    "import carla\n",
    "from accSimulation import Simulation, Context"
   ]
  },
  {
   "cell_type": "markdown",
   "metadata": {},
   "source": [
    "Conviene usare il setting low per ridurre la quantità di computazione\n",
    ".\\CarlaUE4.exe -quality-level=Low"
   ]
  },
  {
   "cell_type": "code",
   "execution_count": 3,
   "metadata": {},
   "outputs": [
    {
     "ename": "RuntimeError",
     "evalue": "time-out of 5000ms while waiting for the simulator, make sure the simulator is ready and connected to 0.0.0.0:2000",
     "output_type": "error",
     "traceback": [
      "\u001b[0;31m---------------------------------------------------------------------------\u001b[0m",
      "\u001b[0;31mRuntimeError\u001b[0m                              Traceback (most recent call last)",
      "\u001b[1;32m/workspaces/carla_sim/simulate.ipynb Cell 3\u001b[0m line \u001b[0;36m1\n\u001b[0;32m----> <a href='vscode-notebook-cell://dev-container%2B7b22686f737450617468223a222f686f6d652f766974746f72696f2f446f63756d656e74732f636f64652f6361726c615f73696d222c226c6f63616c446f636b6572223a66616c73652c2273657474696e6773223a7b22636f6e74657874223a226465736b746f702d6c696e7578227d2c22636f6e66696746696c65223a7b22246d6964223a312c22667350617468223a222f686f6d652f766974746f72696f2f446f63756d656e74732f636f64652f6361726c615f73696d2f2e646576636f6e7461696e65722f646576636f6e7461696e65722e6a736f6e222c2265787465726e616c223a2266696c653a2f2f2f686f6d652f766974746f72696f2f446f63756d656e74732f636f64652f6361726c615f73696d2f2e646576636f6e7461696e65722f646576636f6e7461696e65722e6a736f6e222c2270617468223a222f686f6d652f766974746f72696f2f446f63756d656e74732f636f64652f6361726c615f73696d2f2e646576636f6e7461696e65722f646576636f6e7461696e65722e6a736f6e222c22736368656d65223a2266696c65227d7d/workspaces/carla_sim/simulate.ipynb#W2sdnNjb2RlLXJlbW90ZQ%3D%3D?line=0'>1</a>\u001b[0m context \u001b[39m=\u001b[39m Context()\n",
      "File \u001b[0;32m/workspaces/carla_sim/accSimulation.py:12\u001b[0m, in \u001b[0;36mContext.__init__\u001b[0;34m(self)\u001b[0m\n\u001b[1;32m     10\u001b[0m \u001b[39mdef\u001b[39;00m \u001b[39m__init__\u001b[39m(\u001b[39mself\u001b[39m):\n\u001b[1;32m     11\u001b[0m     \u001b[39mself\u001b[39m\u001b[39m.\u001b[39mclient \u001b[39m=\u001b[39m carla\u001b[39m.\u001b[39mClient(\u001b[39m'\u001b[39m\u001b[39m0.0.0.0\u001b[39m\u001b[39m'\u001b[39m, \u001b[39m2000\u001b[39m)\n\u001b[0;32m---> 12\u001b[0m     \u001b[39mself\u001b[39m\u001b[39m.\u001b[39mworld \u001b[39m=\u001b[39m \u001b[39mself\u001b[39;49m\u001b[39m.\u001b[39;49mclient\u001b[39m.\u001b[39;49mget_world()\n",
      "\u001b[0;31mRuntimeError\u001b[0m: time-out of 5000ms while waiting for the simulator, make sure the simulator is ready and connected to 0.0.0.0:2000"
     ]
    }
   ],
   "source": [
    "context = Context()"
   ]
  },
  {
   "cell_type": "code",
   "execution_count": null,
   "metadata": {},
   "outputs": [],
   "source": [
    "context.client.load_world('Town04')"
   ]
  },
  {
   "cell_type": "code",
   "execution_count": null,
   "metadata": {},
   "outputs": [],
   "source": [
    "pos = carla.Transform(carla.Location(x=402.784515, y=-149.542175, z=0.281942), \n",
    "                      carla.Rotation(pitch=0.000000, yaw=-89.401421, roll=0.000000))\n",
    "simulation = Simulation(context, pos)"
   ]
  },
  {
   "cell_type": "code",
   "execution_count": null,
   "metadata": {},
   "outputs": [],
   "source": [
    "simulation.start()"
   ]
  },
  {
   "cell_type": "markdown",
   "metadata": {},
   "source": [
    "## OLD"
   ]
  },
  {
   "cell_type": "code",
   "execution_count": null,
   "metadata": {},
   "outputs": [],
   "source": [
    "# se non va terminare il task rpc service da task manager\n",
    "pos = carla.Transform(carla.Location(x=-52.311104, y=-1.585260, z=2.002535), \n",
    "                                    carla.Rotation(pitch=-0.002807, yaw=89.838692, roll=0.00338))\n",
    "simulation = Simulation(context, pos)\n",
    "simulation.start()"
   ]
  },
  {
   "cell_type": "code",
   "execution_count": null,
   "metadata": {},
   "outputs": [],
   "source": [
    "simulation.follow()"
   ]
  },
  {
   "cell_type": "code",
   "execution_count": null,
   "metadata": {},
   "outputs": [],
   "source": [
    "simulation._ego._camera.listen()"
   ]
  },
  {
   "cell_type": "code",
   "execution_count": null,
   "metadata": {},
   "outputs": [],
   "source": [
    "#TODO non funziona causa DEstroyActor() non presente nei metodi di carla.Vehicle\n",
    "simulation.clean()"
   ]
  },
  {
   "cell_type": "code",
   "execution_count": null,
   "metadata": {},
   "outputs": [],
   "source": [
    "simulation.stopFollow()"
   ]
  },
  {
   "cell_type": "code",
   "execution_count": null,
   "metadata": {},
   "outputs": [],
   "source": [
    "context.world.unload_map_layer(carla.MapLayer.Buildings)"
   ]
  },
  {
   "cell_type": "code",
   "execution_count": null,
   "metadata": {},
   "outputs": [],
   "source": [
    "context.world.unload_map_layer(carla.MapLayer.ParkedVehicles)"
   ]
  },
  {
   "cell_type": "code",
   "execution_count": null,
   "metadata": {},
   "outputs": [],
   "source": [
    "context.world.unload_map_layer(carla.MapLayer.Foliage)"
   ]
  },
  {
   "cell_type": "code",
   "execution_count": null,
   "metadata": {},
   "outputs": [],
   "source": [
    "spectator = context.world.get_spectator()\n",
    "print(spectator.get_transform())"
   ]
  },
  {
   "cell_type": "code",
   "execution_count": null,
   "metadata": {},
   "outputs": [],
   "source": [
    "import random\n",
    "spawns = context.world.get_map().get_spawn_points()\n",
    "spectator.set_transform(random.choice(spawns))\n",
    "print(spectator.get_transform())"
   ]
  },
  {
   "cell_type": "code",
   "execution_count": null,
   "metadata": {},
   "outputs": [],
   "source": [
    "pos = carla.Transform(carla.Location(x=84.037338, y=-173.678238, z=0.600000), \n",
    "                      carla.Rotation(pitch=0.000000, yaw=-179.673874, roll=0.000000))\n",
    "\n",
    "forw = pos.get_forward_vector()\n",
    "locat = 5*forw\n",
    "import numpy as np\n",
    "pos_mod = np.sqrt(np.array([84.037338, 173.678238]).dot([84.037338, 173.678238]))\n",
    "import math\n",
    "world_x = 84.037 * np.cos(np.radians(179.67))/pos_mod \n",
    "world_y = 173.67 * np.sin(np.radians(179.67))/pos_mod\n",
    "print(world_x, world_y)\n",
    "pos.location += locat\n",
    "print(pos)"
   ]
  },
  {
   "cell_type": "code",
   "execution_count": null,
   "metadata": {},
   "outputs": [],
   "source": []
  }
 ],
 "metadata": {
  "kernelspec": {
   "display_name": ".venv",
   "language": "python",
   "name": "python3"
  },
  "language_info": {
   "codemirror_mode": {
    "name": "ipython",
    "version": 3
   },
   "file_extension": ".py",
   "mimetype": "text/x-python",
   "name": "python",
   "nbconvert_exporter": "python",
   "pygments_lexer": "ipython3",
   "version": "2.7.0"
  }
 },
 "nbformat": 4,
 "nbformat_minor": 2
}
